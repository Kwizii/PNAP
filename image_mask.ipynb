{
 "cells": [
  {
   "cell_type": "code",
   "id": "initial_id",
   "metadata": {
    "collapsed": true
   },
   "source": [
    "import math\n",
    "import os\n",
    "\n",
    "img_dir = '/home/chanvo/PycharmProjects/datasets/sandtable/images'\n",
    "lab_dir = '/home/chanvo/PycharmProjects/datasets/sandtable/labels'\n",
    "imgs = os.listdir(img_dir)"
   ],
   "outputs": [],
   "execution_count": null
  },
  {
   "metadata": {},
   "cell_type": "code",
   "source": [
    "from utils.general import xywh2xyxy\n",
    "import numpy as np\n",
    "from PIL import Image\n",
    "import math\n",
    "import matplotlib.pyplot as plt\n",
    "from matplotlib import patches\n",
    "from tqdm import tqdm\n",
    "\n",
    "patch = Image.open('patch.png').convert('RGB')\n",
    "\n",
    "pbar = tqdm(imgs)\n",
    "for img_name in pbar:\n",
    "    lab_name = os.path.splitext(img_name)[0] + '.txt'\n",
    "    img_path = img_dir + '/' + img_name\n",
    "    lab_path = lab_dir + '/' + lab_name\n",
    "    lab = np.loadtxt(lab_path, ndmin=2)\n",
    "\n",
    "    pbar.set_description(f\"{img_name}  {len(lab)}\")\n",
    "\n",
    "    img = Image.open(img_path).convert('RGB')\n",
    "    w, h = img.size\n",
    "\n",
    "    with open(lab_path, 'r') as f:\n",
    "        olab = f.read()\n",
    "    if len(lab) > 0:\n",
    "        lab = lab[lab[:, 0] != 4][:, 1:]\n",
    "        lab[:, 0] *= w\n",
    "        lab[:, 2] *= w\n",
    "        lab[:, 1] *= h\n",
    "        lab[:, 3] *= h\n",
    "        for box in lab:\n",
    "            nw = nh = 0.2 * math.sqrt(box[2] * box[3])\n",
    "            npatch = patch.resize((int(nw), int(nh)))\n",
    "            olab += '7 %.6f %.6f %.6f %.6f\\n' % (box[0] / w, box[1] / h, nw / w, nh / h)\n",
    "            img.paste(npatch, (int(box[0] - nw / 2), int(box[1] - nh / 2)))\n",
    "    img.save('patch_dataset/images/' + img_name)\n",
    "    with open('patch_dataset/labels/' + lab_name, 'w') as f:\n",
    "        f.write(olab)"
   ],
   "id": "d9d1509ec6add5db",
   "outputs": [],
   "execution_count": null
  },
  {
   "metadata": {},
   "cell_type": "code",
   "source": [
    "out_img_dir = 'patch_dataset/images'\n",
    "out_lab_dir = 'patch_dataset/labels'\n",
    "out_imgs = os.listdir(out_img_dir)\n",
    "\n",
    "for img_name in out_imgs:\n",
    "    lab_name = os.path.splitext(img_name)[0] + '.txt'\n",
    "    img_path = out_img_dir + '/' + img_name\n",
    "    lab_path = out_lab_dir + '/' + lab_name\n",
    "    lab = np.loadtxt(lab_path)\n",
    "    if len(lab) == 0:\n",
    "        continue\n",
    "    lab = lab[:, 1:]\n",
    "    img = Image.open(img_path).convert('RGB')\n",
    "    w, h = img.size\n",
    "    lab[:, 0] *= w\n",
    "    lab[:, 2] *= w\n",
    "    lab[:, 1] *= h\n",
    "    lab[:, 3] *= h\n",
    "    fig, ax = plt.subplots(1)\n",
    "    plt.xticks([])\n",
    "    plt.yticks([])\n",
    "    ax.imshow(img)\n",
    "    for box in lab:\n",
    "        x, y, w, h = box\n",
    "        x1, y1, x2, y2 = xywh2xyxy(box)\n",
    "        rect = patches.Rectangle((x1, y1), x2 - x1, y2 - y1, linewidth=1, edgecolor='r', facecolor='none')\n",
    "        ax.add_patch(rect)\n",
    "    plt.show()"
   ],
   "id": "8dd781784186eff3",
   "outputs": [],
   "execution_count": null
  },
  {
   "metadata": {},
   "cell_type": "code",
   "source": "",
   "id": "8e75260e1bbc8ae1",
   "outputs": [],
   "execution_count": null
  }
 ],
 "metadata": {
  "kernelspec": {
   "display_name": "Python 3",
   "language": "python",
   "name": "python3"
  },
  "language_info": {
   "codemirror_mode": {
    "name": "ipython",
    "version": 2
   },
   "file_extension": ".py",
   "mimetype": "text/x-python",
   "name": "python",
   "nbconvert_exporter": "python",
   "pygments_lexer": "ipython2",
   "version": "2.7.6"
  }
 },
 "nbformat": 4,
 "nbformat_minor": 5
}
