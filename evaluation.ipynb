{
 "cells": [
  {
   "cell_type": "code",
   "id": "initial_id",
   "metadata": {
    "collapsed": true,
    "ExecuteTime": {
     "end_time": "2024-04-30T14:53:32.738991Z",
     "start_time": "2024-04-30T14:53:29.797256Z"
    }
   },
   "source": [
    "import os\n",
    "from utils.metrics import ap_per_class\n",
    "from post_util import process_batch\n",
    "from PIL import Image\n",
    "import torchvision.transforms as T\n",
    "from load_data import boxes2labs\n",
    "import torch.nn.functional as F\n",
    "%matplotlib inline\n",
    "\n",
    "import patch_config\n",
    "from models.experimental import attempt_load\n",
    "import numpy as np\n",
    "import torch\n",
    "from utils.general import non_max_suppression, xywh2xyxy\n",
    "import torchvision\n",
    "from load_data import InriaDataset, PatchApplier, PatchTransformer, preds2boxes, TotalVariation\n",
    "import matplotlib.pyplot as plt\n",
    "from post_util import plot_boxes, get_region_boxes\n",
    "\n",
    "np.random.seed(0)\n",
    "torch.manual_seed(0)\n",
    "torch.cuda.manual_seed(0)\n",
    "cfg = patch_config.patch_configs['yolov4tiny']()\n",
    "model = cfg.model"
   ],
   "outputs": [
    {
     "name": "stderr",
     "output_type": "stream",
     "text": [
      "Fusing layers... \n",
      "Model summary: 157 layers, 7225885 parameters, 0 gradients, 16.4 GFLOPs\n"
     ]
    }
   ],
   "execution_count": 2
  },
  {
   "metadata": {
    "ExecuteTime": {
     "end_time": "2024-04-30T14:18:02.243040Z",
     "start_time": "2024-04-30T14:18:02.236055Z"
    }
   },
   "cell_type": "code",
   "source": [
    "data_loader = torch.utils.data.DataLoader(\n",
    "    InriaDataset(cfg.val_img_dir, None, None, cfg.img_size),\n",
    "    # InriaDataset(cfg.img_dir, cfg.lab_dir, 20, cfg.img_size),\n",
    "    batch_size=1,\n",
    "    shuffle=False,\n",
    "    num_workers=0)\n",
    "train_loader = torch.utils.data.DataLoader(\n",
    "    InriaDataset(cfg.img_dir, None, None, cfg.img_size),\n",
    "    batch_size=1,\n",
    "    shuffle=False,\n",
    "    num_workers=0)\n",
    "patch_img = \"patches/Hu/v4tiny.png\"\n",
    "adv_patch = Image.open(patch_img).convert('RGB')\n",
    "adv_patch = T.Compose([T.ToTensor()])(adv_patch).cuda()\n",
    "adv_patch_init = adv_patch.detach().clone()\n",
    "patch_applier = PatchApplier().cuda()\n",
    "patch_transformer = PatchTransformer().cuda()"
   ],
   "id": "58e09f6fb2711ec4",
   "outputs": [],
   "execution_count": 117
  },
  {
   "metadata": {
    "ExecuteTime": {
     "end_time": "2024-04-30T14:18:03.254429Z",
     "start_time": "2024-04-30T14:18:03.252703Z"
    }
   },
   "cell_type": "code",
   "source": "it = iter(train_loader)",
   "id": "3a978074140c63bf",
   "outputs": [],
   "execution_count": 118
  },
  {
   "metadata": {
    "ExecuteTime": {
     "end_time": "2024-04-30T14:18:32.659037Z",
     "start_time": "2024-04-30T14:18:32.636492Z"
    }
   },
   "cell_type": "code",
   "source": [
    "img_batch, _ = next(it)\n",
    "img_batch = img_batch.cuda()"
   ],
   "id": "48ffdb7e630897ce",
   "outputs": [],
   "execution_count": 129
  },
  {
   "metadata": {
    "ExecuteTime": {
     "end_time": "2024-04-30T15:10:27.403550Z",
     "start_time": "2024-04-30T15:10:27.394541Z"
    }
   },
   "cell_type": "code",
   "source": "patch = T.ToTensor()(Image.open('patches/PNAP/init.png').convert('RGB')).cuda()",
   "id": "339f317bbdee77c1",
   "outputs": [],
   "execution_count": 32
  },
  {
   "metadata": {
    "ExecuteTime": {
     "end_time": "2024-04-30T15:10:27.731715Z",
     "start_time": "2024-04-30T15:10:27.689875Z"
    }
   },
   "cell_type": "code",
   "source": [
    "noise = torch.randn_like(patch) * 0.4\n",
    "patch = patch + noise\n",
    "patch = torch.clamp(patch, 0, 1)\n",
    "T.ToPILImage()(patch).save('patch.png')"
   ],
   "id": "12418e7ebf27d5ee",
   "outputs": [],
   "execution_count": 33
  },
  {
   "metadata": {
    "ExecuteTime": {
     "end_time": "2024-04-30T14:54:25.310150Z",
     "start_time": "2024-04-30T14:54:25.298682Z"
    }
   },
   "cell_type": "code",
   "source": [
    "preds_orig = model(F.interpolate(img_batch, cfg.imgsz))\n",
    "preds_orig = preds2boxes(cfg, preds_orig)\n",
    "adv_batch = patch_transformer(patch, boxes2labs(preds_orig), 416)"
   ],
   "id": "52044bcb40f940a8",
   "outputs": [
    {
     "ename": "NameError",
     "evalue": "name 'img_batch' is not defined",
     "output_type": "error",
     "traceback": [
      "\u001B[0;31m---------------------------------------------------------------------------\u001B[0m",
      "\u001B[0;31mNameError\u001B[0m                                 Traceback (most recent call last)",
      "Cell \u001B[0;32mIn[13], line 1\u001B[0m\n\u001B[0;32m----> 1\u001B[0m preds_orig \u001B[38;5;241m=\u001B[39m model(F\u001B[38;5;241m.\u001B[39minterpolate(\u001B[43mimg_batch\u001B[49m, cfg\u001B[38;5;241m.\u001B[39mimgsz))\n\u001B[1;32m      2\u001B[0m preds_orig \u001B[38;5;241m=\u001B[39m preds2boxes(cfg, preds_orig)\n\u001B[1;32m      3\u001B[0m adv_batch \u001B[38;5;241m=\u001B[39m patch_transformer(patch, boxes2labs(preds_orig), \u001B[38;5;241m416\u001B[39m)\n",
      "\u001B[0;31mNameError\u001B[0m: name 'img_batch' is not defined"
     ]
    }
   ],
   "execution_count": 13
  },
  {
   "metadata": {
    "ExecuteTime": {
     "end_time": "2024-04-30T14:18:33.926712Z",
     "start_time": "2024-04-30T14:18:33.891303Z"
    }
   },
   "cell_type": "code",
   "source": [
    "%matplotlib inline\n",
    "b = torch.zeros((1, 3, 416, 416), dtype=torch.float).cuda()\n",
    "advs = torch.unbind(adv_batch[1], 1)\n",
    "for adv in advs:\n",
    "    b = torch.where((adv == 0), b, adv)\n",
    "plt.imshow(b[0].cpu().permute(1, 2, 0))\n",
    "plt.xticks([])\n",
    "plt.yticks([])\n",
    "plt.show()"
   ],
   "id": "8bf15981164aefb8",
   "outputs": [
    {
     "data": {
      "text/plain": [
       "<Figure size 640x480 with 1 Axes>"
      ],
      "image/png": "[encoded data removed]"
     },
     "metadata": {},
     "output_type": "display_data"
    }
   ],
   "execution_count": 132
  },
  {
   "metadata": {
    "ExecuteTime": {
     "end_time": "2024-04-30T14:18:37.518350Z",
     "start_time": "2024-04-30T14:18:37.516239Z"
    }
   },
   "cell_type": "code",
   "source": "pbatch = patch_applier(img_batch, adv_batch[0])",
   "id": "cbc5239f06c07036",
   "outputs": [],
   "execution_count": 133
  },
  {
   "metadata": {
    "ExecuteTime": {
     "end_time": "2024-04-30T14:18:37.809406Z",
     "start_time": "2024-04-30T14:18:37.713582Z"
    }
   },
   "cell_type": "code",
   "source": [
    "T.ToPILImage()(b[0]).save('mask.png')\n",
    "T.ToPILImage()(img_batch[0]).save('aa.png')\n",
    "T.ToPILImage()(pbatch[0]).save('b.png')"
   ],
   "id": "2c0b637de4dbc08f",
   "outputs": [],
   "execution_count": 134
  },
  {
   "metadata": {
    "ExecuteTime": {
     "end_time": "2024-04-30T09:02:32.067605Z",
     "start_time": "2024-04-30T08:53:04.441155Z"
    }
   },
   "cell_type": "code",
   "source": [
    "gt_path = os.path.join(os.getcwd(), 'temps', 'gt', f'{cfg.patch_name}')\n",
    "dr_path = os.path.join(os.getcwd(), 'temps', 'dr', f'{cfg.patch_name}')\n",
    "if not os.path.exists(gt_path):\n",
    "    os.makedirs(gt_path)\n",
    "if not os.path.exists(dr_path):\n",
    "    os.makedirs(dr_path)\n",
    "\n",
    "for i_batch, (img_batch, img_paths) in enumerate(data_loader):\n",
    "    img_batch = img_batch.cuda()\n",
    "    with torch.no_grad():\n",
    "        preds_orig = model(F.interpolate(img_batch, cfg.imgsz))\n",
    "    preds_orig = preds2boxes(cfg, preds_orig)\n",
    "    adv_batch_t = patch_transformer(adv_patch, boxes2labs(preds_orig), cfg.img_size,\n",
    "                                    do_blur=False,\n",
    "                                    do_rotate=False,\n",
    "                                    rand_loc=False,\n",
    "                                    do_aug=False,\n",
    "                                    by_rectangle=True)\n",
    "    p_img_batch = patch_applier(img_batch, adv_batch_t)\n",
    "    with torch.no_grad():\n",
    "        preds_patched = model(F.interpolate(p_img_batch, cfg.imgsz))\n",
    "    preds_patched = preds2boxes(cfg, preds_patched)\n",
    "    for gt_pred, dr_pred, img_path in zip(preds_orig, preds_patched, img_paths):\n",
    "        img_name = os.path.splitext(os.path.basename(img_path))[0]\n",
    "        gt_box = gt_pred[:, :4]\n",
    "        dr_box = dr_pred[:, :4]\n",
    "        dr_confs = dr_pred[:, 4]\n",
    "        gt_box = gt_box.cpu().numpy()\n",
    "        dr_box = dr_box.cpu().numpy()\n",
    "        gt_box = xywh2xyxy(gt_box)\n",
    "        dr_box = xywh2xyxy(dr_box)\n",
    "        gt_box = np.round(gt_box * cfg.img_size)\n",
    "        dr_box = np.round(dr_box * cfg.img_size)\n",
    "        with open(os.path.join(gt_path, f'{img_name}.txt'), 'w') as f:\n",
    "            for box in gt_box:\n",
    "                coords = ' '.join(map(str, box))\n",
    "                f.write(f'target {coords}\\n')\n",
    "            f.close()\n",
    "        with open(os.path.join(dr_path, f'{img_name}.txt'), 'w') as f:\n",
    "            for box, dr_conf in zip(dr_box, dr_confs):\n",
    "                coords = ' '.join(map(str, box))\n",
    "                f.write(f'target {dr_conf} {coords}' + '\\n')\n",
    "            f.close()"
   ],
   "id": "2ff0662d44c28ab5",
   "outputs": [
    {
     "ename": "KeyboardInterrupt",
     "evalue": "",
     "output_type": "error",
     "traceback": [
      "\u001B[0;31m---------------------------------------------------------------------------\u001B[0m",
      "\u001B[0;31mKeyboardInterrupt\u001B[0m                         Traceback (most recent call last)",
      "Cell \u001B[0;32mIn[9], line 22\u001B[0m\n\u001B[1;32m     20\u001B[0m \u001B[38;5;28;01mwith\u001B[39;00m torch\u001B[38;5;241m.\u001B[39mno_grad():\n\u001B[1;32m     21\u001B[0m     preds_patched \u001B[38;5;241m=\u001B[39m model(F\u001B[38;5;241m.\u001B[39minterpolate(p_img_batch, cfg\u001B[38;5;241m.\u001B[39mimgsz))\n\u001B[0;32m---> 22\u001B[0m preds_patched \u001B[38;5;241m=\u001B[39m \u001B[43mpreds2boxes\u001B[49m\u001B[43m(\u001B[49m\u001B[43mcfg\u001B[49m\u001B[43m,\u001B[49m\u001B[43m \u001B[49m\u001B[43mpreds_patched\u001B[49m\u001B[43m)\u001B[49m\n\u001B[1;32m     23\u001B[0m \u001B[38;5;28;01mfor\u001B[39;00m gt_pred, dr_pred, img_path \u001B[38;5;129;01min\u001B[39;00m \u001B[38;5;28mzip\u001B[39m(preds_orig, preds_patched, img_paths):\n\u001B[1;32m     24\u001B[0m     img_name \u001B[38;5;241m=\u001B[39m os\u001B[38;5;241m.\u001B[39mpath\u001B[38;5;241m.\u001B[39msplitext(os\u001B[38;5;241m.\u001B[39mpath\u001B[38;5;241m.\u001B[39mbasename(img_path))[\u001B[38;5;241m0\u001B[39m]\n",
      "File \u001B[0;32m~/projects/multi-task-attck/AP-PA/load_data.py:237\u001B[0m, in \u001B[0;36mpreds2boxes\u001B[0;34m(cfg, output)\u001B[0m\n\u001B[1;32m    235\u001B[0m \u001B[38;5;28;01melif\u001B[39;00m cfg\u001B[38;5;241m.\u001B[39mmode \u001B[38;5;241m==\u001B[39m \u001B[38;5;124m'\u001B[39m\u001B[38;5;124myolov5\u001B[39m\u001B[38;5;124m'\u001B[39m:\n\u001B[1;32m    236\u001B[0m     \u001B[38;5;28;01mif\u001B[39;00m \u001B[38;5;28misinstance\u001B[39m(output, \u001B[38;5;28mtuple\u001B[39m):\n\u001B[0;32m--> 237\u001B[0m         output \u001B[38;5;241m=\u001B[39m output[\u001B[38;5;241m0\u001B[39m]\n\u001B[1;32m    238\u001B[0m     bboxes \u001B[38;5;241m=\u001B[39m nms_y5(output, cfg\u001B[38;5;241m.\u001B[39mconf_thres, cfg\u001B[38;5;241m.\u001B[39miou_thres, classes\u001B[38;5;241m=\u001B[39mcfg\u001B[38;5;241m.\u001B[39mcls_id, agnostic\u001B[38;5;241m=\u001B[39m\u001B[38;5;28;01mFalse\u001B[39;00m,\n\u001B[1;32m    239\u001B[0m                     max_det\u001B[38;5;241m=\u001B[39mcfg\u001B[38;5;241m.\u001B[39mmax_det)\n\u001B[1;32m    240\u001B[0m     \u001B[38;5;28;01mfor\u001B[39;00m boxes \u001B[38;5;129;01min\u001B[39;00m bboxes:\n",
      "File \u001B[0;32m~/projects/multi-task-attck/AP-PA/utils/general.py:1110\u001B[0m, in \u001B[0;36mnon_max_suppression\u001B[0;34m(prediction, conf_thres, iou_thres, classes, agnostic, multi_label, labels, max_det, nm)\u001B[0m\n\u001B[1;32m   1107\u001B[0m         i \u001B[38;5;241m=\u001B[39m i[iou\u001B[38;5;241m.\u001B[39msum(\u001B[38;5;241m1\u001B[39m) \u001B[38;5;241m>\u001B[39m \u001B[38;5;241m1\u001B[39m]  \u001B[38;5;66;03m# require redundancy\u001B[39;00m\n\u001B[1;32m   1109\u001B[0m output[xi] \u001B[38;5;241m=\u001B[39m x[i]\n\u001B[0;32m-> 1110\u001B[0m \u001B[38;5;28;01mif\u001B[39;00m \u001B[43mmps\u001B[49m:\n\u001B[1;32m   1111\u001B[0m     output[xi] \u001B[38;5;241m=\u001B[39m output[xi]\u001B[38;5;241m.\u001B[39mto(device)\n\u001B[1;32m   1112\u001B[0m \u001B[38;5;28;01mif\u001B[39;00m (time\u001B[38;5;241m.\u001B[39mtime() \u001B[38;5;241m-\u001B[39m t) \u001B[38;5;241m>\u001B[39m time_limit:\n",
      "File \u001B[0;32m~/.local/share/JetBrains/Toolbox/apps/pycharm-professional/plugins/python/helpers/pydev/_pydevd_bundle/pydevd_frame.py:892\u001B[0m, in \u001B[0;36mPyDBFrame.trace_dispatch\u001B[0;34m(self, frame, event, arg)\u001B[0m\n\u001B[1;32m    890\u001B[0m \u001B[38;5;28;01mif\u001B[39;00m is_line:\n\u001B[1;32m    891\u001B[0m     \u001B[38;5;28mself\u001B[39m\u001B[38;5;241m.\u001B[39mset_suspend(thread, step_cmd)\n\u001B[0;32m--> 892\u001B[0m     \u001B[38;5;28;43mself\u001B[39;49m\u001B[38;5;241;43m.\u001B[39;49m\u001B[43mdo_wait_suspend\u001B[49m\u001B[43m(\u001B[49m\u001B[43mthread\u001B[49m\u001B[43m,\u001B[49m\u001B[43m \u001B[49m\u001B[43mframe\u001B[49m\u001B[43m,\u001B[49m\u001B[43m \u001B[49m\u001B[43mevent\u001B[49m\u001B[43m,\u001B[49m\u001B[43m \u001B[49m\u001B[43marg\u001B[49m\u001B[43m)\u001B[49m\n\u001B[1;32m    893\u001B[0m \u001B[38;5;28;01melse\u001B[39;00m:  \u001B[38;5;66;03m# return event\u001B[39;00m\n\u001B[1;32m    894\u001B[0m     back \u001B[38;5;241m=\u001B[39m frame\u001B[38;5;241m.\u001B[39mf_back\n",
      "File \u001B[0;32m~/.local/share/JetBrains/Toolbox/apps/pycharm-professional/plugins/python/helpers/pydev/_pydevd_bundle/pydevd_frame.py:412\u001B[0m, in \u001B[0;36mPyDBFrame.do_wait_suspend\u001B[0;34m(self, *args, **kwargs)\u001B[0m\n\u001B[1;32m    411\u001B[0m \u001B[38;5;28;01mdef\u001B[39;00m \u001B[38;5;21mdo_wait_suspend\u001B[39m(\u001B[38;5;28mself\u001B[39m, \u001B[38;5;241m*\u001B[39margs, \u001B[38;5;241m*\u001B[39m\u001B[38;5;241m*\u001B[39mkwargs):\n\u001B[0;32m--> 412\u001B[0m     \u001B[38;5;28;43mself\u001B[39;49m\u001B[38;5;241;43m.\u001B[39;49m\u001B[43m_args\u001B[49m\u001B[43m[\u001B[49m\u001B[38;5;241;43m0\u001B[39;49m\u001B[43m]\u001B[49m\u001B[38;5;241;43m.\u001B[39;49m\u001B[43mdo_wait_suspend\u001B[49m\u001B[43m(\u001B[49m\u001B[38;5;241;43m*\u001B[39;49m\u001B[43margs\u001B[49m\u001B[43m,\u001B[49m\u001B[43m \u001B[49m\u001B[38;5;241;43m*\u001B[39;49m\u001B[38;5;241;43m*\u001B[39;49m\u001B[43mkwargs\u001B[49m\u001B[43m)\u001B[49m\n",
      "File \u001B[0;32m~/.local/share/JetBrains/Toolbox/apps/pycharm-professional/plugins/python/helpers/pydev/pydevd.py:1185\u001B[0m, in \u001B[0;36mPyDB.do_wait_suspend\u001B[0;34m(self, thread, frame, event, arg, send_suspend_message, is_unhandled_exception)\u001B[0m\n\u001B[1;32m   1182\u001B[0m         from_this_thread\u001B[38;5;241m.\u001B[39mappend(frame_id)\n\u001B[1;32m   1184\u001B[0m \u001B[38;5;28;01mwith\u001B[39;00m \u001B[38;5;28mself\u001B[39m\u001B[38;5;241m.\u001B[39m_threads_suspended_single_notification\u001B[38;5;241m.\u001B[39mnotify_thread_suspended(thread_id, stop_reason):\n\u001B[0;32m-> 1185\u001B[0m     \u001B[38;5;28;43mself\u001B[39;49m\u001B[38;5;241;43m.\u001B[39;49m\u001B[43m_do_wait_suspend\u001B[49m\u001B[43m(\u001B[49m\u001B[43mthread\u001B[49m\u001B[43m,\u001B[49m\u001B[43m \u001B[49m\u001B[43mframe\u001B[49m\u001B[43m,\u001B[49m\u001B[43m \u001B[49m\u001B[43mevent\u001B[49m\u001B[43m,\u001B[49m\u001B[43m \u001B[49m\u001B[43marg\u001B[49m\u001B[43m,\u001B[49m\u001B[43m \u001B[49m\u001B[43msuspend_type\u001B[49m\u001B[43m,\u001B[49m\u001B[43m \u001B[49m\u001B[43mfrom_this_thread\u001B[49m\u001B[43m)\u001B[49m\n",
      "File \u001B[0;32m~/.local/share/JetBrains/Toolbox/apps/pycharm-professional/plugins/python/helpers/pydev/pydevd.py:1200\u001B[0m, in \u001B[0;36mPyDB._do_wait_suspend\u001B[0;34m(self, thread, frame, event, arg, suspend_type, from_this_thread)\u001B[0m\n\u001B[1;32m   1197\u001B[0m             \u001B[38;5;28mself\u001B[39m\u001B[38;5;241m.\u001B[39m_call_mpl_hook()\n\u001B[1;32m   1199\u001B[0m         \u001B[38;5;28mself\u001B[39m\u001B[38;5;241m.\u001B[39mprocess_internal_commands()\n\u001B[0;32m-> 1200\u001B[0m         \u001B[43mtime\u001B[49m\u001B[38;5;241;43m.\u001B[39;49m\u001B[43msleep\u001B[49m\u001B[43m(\u001B[49m\u001B[38;5;241;43m0.01\u001B[39;49m\u001B[43m)\u001B[49m\n\u001B[1;32m   1202\u001B[0m \u001B[38;5;28mself\u001B[39m\u001B[38;5;241m.\u001B[39mcancel_async_evaluation(get_current_thread_id(thread), \u001B[38;5;28mstr\u001B[39m(\u001B[38;5;28mid\u001B[39m(frame)))\n\u001B[1;32m   1204\u001B[0m \u001B[38;5;66;03m# process any stepping instructions\u001B[39;00m\n",
      "\u001B[0;31mKeyboardInterrupt\u001B[0m: "
     ]
    }
   ],
   "execution_count": 9
  },
  {
   "metadata": {
    "ExecuteTime": {
     "end_time": "2024-04-30T08:51:08.538317Z",
     "start_time": "2024-04-30T08:51:08.513144Z"
    }
   },
   "cell_type": "code",
   "source": [
    "from tools import map_cal\n",
    "\n",
    "map50 = map_cal.count(path_ground_truth=gt_path,\n",
    "                      path_detection_results=dr_path)\n",
    "print(map50)"
   ],
   "id": "b64a838212578b6a",
   "outputs": [
    {
     "name": "stdout",
     "output_type": "stream",
     "text": [
      "GT_PATH :\n",
      "/home/chanvo/projects/multi-task-attck/AP-PA/temps/gt/yolov4tiny\n",
      "22.09% = target AP \n",
      "mAP = 22.09%\n",
      "0.22093886539344618\n"
     ]
    }
   ],
   "execution_count": 8
  },
  {
   "metadata": {
    "ExecuteTime": {
     "end_time": "2024-04-30T08:51:08.539841Z",
     "start_time": "2024-04-30T08:51:08.538752Z"
    }
   },
   "cell_type": "code",
   "source": "",
   "id": "882cb9a35bb5fa38",
   "outputs": [],
   "execution_count": 8
  }
 ],
 "metadata": {
  "kernelspec": {
   "display_name": "Python 3",
   "language": "python",
   "name": "python3"
  },
  "language_info": {
   "codemirror_mode": {
    "name": "ipython",
    "version": 2
   },
   "file_extension": ".py",
   "mimetype": "text/x-python",
   "name": "python",
   "nbconvert_exporter": "python",
   "pygments_lexer": "ipython2",
   "version": "2.7.6"
  }
 },
 "nbformat": 4,
 "nbformat_minor": 5
}
